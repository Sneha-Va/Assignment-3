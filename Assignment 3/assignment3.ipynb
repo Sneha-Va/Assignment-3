{
 "cells": [
  {
   "cell_type": "markdown",
   "metadata": {},
   "source": [
    "## Assignment 3"
   ]
  },
  {
   "cell_type": "markdown",
   "metadata": {},
   "source": [
    "1. create a temprature class.make two method :\n",
    "   a)convertFahrenheit-it will take celsius and will print it into Fahrenheit\n",
    "   b)convertCelsius-it will take Fahrenheit and will convert it into celsius"
   ]
  },
  {
   "cell_type": "code",
   "execution_count": 1,
   "metadata": {},
   "outputs": [
    {
     "name": "stdout",
     "output_type": "stream",
     "text": [
      "77.0\n",
      "25.0\n"
     ]
    }
   ],
   "source": [
    "class Temperature:\n",
    "    temp = 0\n",
    "\n",
    "    def __init__(self, temp):\n",
    "        self.temp = temp\n",
    "\n",
    "\n",
    "    def convert_to_fahrenheit(self):\n",
    "        result = float((9 * self.temp) / 5 + 32)\n",
    "        return result\n",
    "\n",
    "    def convert_to_celsius(self):\n",
    "        result = float((self.temp - 32) * 5 / 9)\n",
    "        return result\n",
    "\n",
    "\n",
    "input_temp = float(input(\"Input temperature in celsius: \"))\n",
    "temp1 = Temperature(input_temp)\n",
    "print(temp1.convert_to_fahrenheit())\n",
    "\n",
    "input_temp = float(input(\"Input temperature in fahrenheit: \"))\n",
    "temp1 = Temperature(input_temp)\n",
    "print(temp1.convert_to_celsius())"
   ]
  },
  {
   "cell_type": "markdown",
   "metadata": {},
   "source": [
    "2. create a time and initialize it with hours and minutes:\n",
    " a)Make a method addTime which should take two time object and add them. e.g.-(2 hour and 50 mins)+(1 hr and 2 min)is (4 hr and 10 mins)\n",
    " b)Make a method displayTime which should print the time\n",
    " c)Make a method Display Minute which should display the total minutes in the time.E.g-(1 hr 2 min) should display 62 minute."
   ]
  },
  {
   "cell_type": "code",
   "execution_count": 2,
   "metadata": {},
   "outputs": [
    {
     "name": "stdout",
     "output_type": "stream",
     "text": [
      "time is 4.166666666666667 hours and 0.0 minutes.\n"
     ]
    },
    {
     "data": {
      "text/plain": [
       "<bound method Time.displayMinute of <__main__.Time object at 0x00000200C4146070>>"
      ]
     },
     "execution_count": 2,
     "metadata": {},
     "output_type": "execute_result"
    }
   ],
   "source": [
    "class Time():\n",
    "    def __init__(self,hours,mins):\n",
    "        self.hours = hours\n",
    "        self.mins=mins\n",
    "    def addTime(t1,t2):\n",
    "        t3=Time(0,0)\n",
    "        if t1.mins+t2.mins > 60:\n",
    "            t3.hours = (t1.mins+t2.mins)/60\n",
    "        t3.hours = t3.hours+t1.hours+t2.hours\n",
    "        t3.mins=(t1.mins+t2.mins)-(((t1.mins+t2.mins)/60)*60)\n",
    "        return t3\n",
    "\n",
    "    def displayTime(self):\n",
    "        print(\"time is\" , self.hours,\"hours and\",self.mins,\"minutes.\")\n",
    "        \n",
    "    def displayMinute(self):\n",
    "        print(self.hours*60)+self.mins\n",
    "a=Time(2,50)\n",
    "b=Time(1,20)\n",
    "c=Time.addTime(a,b)\n",
    "c.displayTime()\n",
    "c.displayMinute\n"
   ]
  }
 ],
 "metadata": {
  "kernelspec": {
   "display_name": "Python 3.8.5 64-bit",
   "language": "python",
   "name": "python3"
  },
  "language_info": {
   "codemirror_mode": {
    "name": "ipython",
    "version": 3
   },
   "file_extension": ".py",
   "mimetype": "text/x-python",
   "name": "python",
   "nbconvert_exporter": "python",
   "pygments_lexer": "ipython3",
   "version": "3.8.5"
  },
  "orig_nbformat": 4,
  "vscode": {
   "interpreter": {
    "hash": "a524115f8dc18b3955c5ee1981641bcbd83c72f857ce00c888e45909f55c8117"
   }
  }
 },
 "nbformat": 4,
 "nbformat_minor": 2
}
